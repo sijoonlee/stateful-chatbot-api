{
 "cells": [
  {
   "cell_type": "code",
   "execution_count": 11,
   "metadata": {},
   "outputs": [],
   "source": [
    "from __future__ import unicode_literals, print_function\n",
    "\n",
    "import random\n",
    "from pathlib import Path\n",
    "import spacy\n",
    "from spacy.util import minibatch, compounding\n",
    "\n",
    "\n",
    "\n",
    "names = [\"Donna\", \"donna\", \"Mandy\", \"mandy\", \"Colin\", \"colin\", \"Janis\", \"janis\", \"Brian\", \"brian\"]\n",
    "\n",
    "TRAIN_DATA = []\n",
    "\n",
    "for name in names:\n",
    "    TRAIN_DATA.append((\"Find me {}'s office\".format(name), \n",
    "              { \"heads\": [0, 0, 4, 2, 0],  # index of token head\n",
    "                \"deps\": [\"ROOT\", \"-\", \"PERSON\", \"-\", \"PLACE\"]}))\n",
    "    TRAIN_DATA.append((\"Could you find me {}'s office\".format(name), \n",
    "              { \"heads\": [2, 2, 2, 2, 6, 4, 2],  # index of token head\n",
    "                \"deps\": [\"-\", \"-\", \"ROOT\", \"-\", \"PERSON\", \"-\", \"PLACE\"]}))\n",
    "    TRAIN_DATA.append((\"Where is {}'s office?\".format(name), \n",
    "              { \"heads\": [1, 1, 4, 2, 1, 1],  # index of token head\n",
    "                \"deps\": [\"-\", \"ROOT\", \"PERSON\", \"-\", \"PLACE\", \"-\"]}))\n",
    "    TRAIN_DATA.append((\"Where can I find {}'s office?\".format(name), \n",
    "              { \"heads\": [3, 3, 3, 3, 6, 4, 3, 3],  # index of token head\n",
    "                \"deps\": [\"-\", \"-\", \"-\", \"ROOT\", \"PERSON\", \"-\", \"PLACE\", \"-\"]}))\n",
    "    \n",
    "\n",
    "def main(model=None, output_dir=None, n_iter=15):\n",
    "    \"\"\"Load the model, set up the pipeline and train the parser.\"\"\"\n",
    "    if model is not None:\n",
    "        nlp = spacy.load(model)  # load existing spaCy model\n",
    "        print(\"Loaded model '%s'\" % model)\n",
    "    else:\n",
    "        nlp = spacy.blank(\"en\")  # create blank Language class\n",
    "        print(\"Created blank 'en' model\")\n",
    "\n",
    "    # We'll use the built-in dependency parser class, but we want to create a\n",
    "    # fresh instance – just in case.\n",
    "    if \"parser\" in nlp.pipe_names:\n",
    "        nlp.remove_pipe(\"parser\")\n",
    "    parser = nlp.create_pipe(\"parser\")\n",
    "    nlp.add_pipe(parser, first=True)\n",
    "\n",
    "    for text, annotations in TRAIN_DATA:\n",
    "        for dep in annotations.get(\"deps\", []):\n",
    "            parser.add_label(dep)\n",
    "\n",
    "    other_pipes = [pipe for pipe in nlp.pipe_names if pipe != \"parser\"]\n",
    "    with nlp.disable_pipes(*other_pipes):  # only train parser\n",
    "        optimizer = nlp.begin_training()\n",
    "        for itn in range(n_iter):\n",
    "            random.shuffle(TRAIN_DATA)\n",
    "            losses = {}\n",
    "            # batch up the examples using spaCy's minibatch\n",
    "            batches = minibatch(TRAIN_DATA, size=compounding(4.0, 32.0, 1.001))\n",
    "            for batch in batches:\n",
    "                texts, annotations = zip(*batch)\n",
    "                nlp.update(texts, annotations, sgd=optimizer, losses=losses)\n",
    "            print(\"Losses\", losses)\n",
    "\n",
    "    # test the trained model\n",
    "    test_model(nlp)\n",
    "\n",
    "    # save model to output directory\n",
    "    if output_dir is not None:\n",
    "        output_dir = Path(output_dir)\n",
    "        if not output_dir.exists():\n",
    "            output_dir.mkdir()\n",
    "        nlp.to_disk(output_dir)\n",
    "        print(\"Saved model to\", output_dir)\n",
    "\n",
    "        # test the saved model\n",
    "        print(\"Loading from\", output_dir)\n",
    "        nlp2 = spacy.load(output_dir)\n",
    "        test_model(nlp2)\n",
    "\n",
    "\n",
    "def test_model(nlp):\n",
    "    texts = [\n",
    "        \"find office\",\n",
    "        \"find Donna's office\",\n",
    "        \"find me Mandy Green's office\",\n",
    "        \"how can I find Donna's office\"\n",
    "    ]\n",
    "    docs = nlp.pipe(texts)\n",
    "    for doc in docs:\n",
    "        print(doc.text)\n",
    "        print([(t.text, t.dep_, t.head.text) for t in doc if t.dep_ != \"-\"])"
   ]
  },
  {
   "cell_type": "code",
   "execution_count": 48,
   "metadata": {},
   "outputs": [
    {
     "name": "stdout",
     "output_type": "stream",
     "text": [
      "Loaded model './model'\n",
      "Losses {'parser': 75.1100008636713}\n",
      "Losses {'parser': 71.07219618558884}\n",
      "Losses {'parser': 45.04308149218559}\n",
      "Losses {'parser': 17.65409846464172}\n",
      "Losses {'parser': 2.575062443036586}\n",
      "Losses {'parser': 0.12528935682712472}\n",
      "Losses {'parser': 0.0011910768143366113}\n",
      "Losses {'parser': 1.2815568531165944e-05}\n",
      "Losses {'parser': 3.516869703512615e-07}\n",
      "Losses {'parser': 4.8024628444137685e-08}\n",
      "Losses {'parser': 1.7055659417989158e-08}\n",
      "Losses {'parser': 7.129709477752405e-09}\n",
      "Losses {'parser': 3.4049019469791636e-09}\n",
      "Losses {'parser': 1.6048069865621216e-09}\n",
      "Losses {'parser': 1.0090771881474787e-09}\n",
      "find office\n",
      "[('find', 'ROOT', 'find'), ('office', 'PLACE', 'find')]\n",
      "find Donna's office\n",
      "[('find', 'ROOT', 'find'), ('Donna', 'PERSON', 'office'), ('office', 'PLACE', 'find')]\n",
      "find me Mandy Green's office\n",
      "[('find', 'ROOT', 'find'), ('Mandy', 'PERSON', 'office'), ('office', 'PLACE', 'find')]\n",
      "how can I find Donna's office\n",
      "[('find', 'ROOT', 'find'), ('Donna', 'PERSON', 'office'), ('office', 'PLACE', 'find')]\n",
      "Saved model to model\n",
      "Loading from model\n",
      "find office\n",
      "[('find', 'ROOT', 'find'), ('office', 'PLACE', 'find')]\n",
      "find Donna's office\n",
      "[('find', 'ROOT', 'find'), ('Donna', 'PERSON', 'office'), ('office', 'PLACE', 'find')]\n",
      "find me Mandy Green's office\n",
      "[('find', 'ROOT', 'find'), ('Mandy', 'PERSON', 'office'), ('office', 'PLACE', 'find')]\n",
      "how can I find Donna's office\n",
      "[('find', 'ROOT', 'find'), ('Donna', 'PERSON', 'office'), ('office', 'PLACE', 'find')]\n"
     ]
    }
   ],
   "source": [
    "#main(\"en_core_web_md\", output_dir=\"./model\")\n",
    "main(\"./model\", output_dir=\"./model\")"
   ]
  },
  {
   "cell_type": "code",
   "execution_count": 49,
   "metadata": {},
   "outputs": [
    {
     "name": "stdout",
     "output_type": "stream",
     "text": [
      "['parser', 'tagger', 'ner']\n",
      "[3, 2, 3, 3, 6, 4, 3, 3]\n",
      "['-', '-', '-', 'ROOT', 'PERSON', '-', 'PLACE', '-']\n",
      "['Hello', ',', 'where', 'is', 'Brian', \"'s\", 'office', '?']\n"
     ]
    }
   ],
   "source": [
    "import spacy\n",
    "nlp = spacy.load(\"./model\")\n",
    "print(nlp.pipe_names)\n",
    "\n",
    "text = \"Hello, where is Brian's office?\"\n",
    "doc = nlp(text)\n",
    "print([token.head.i for token in doc])\n",
    "print([token.dep_ for token in doc])\n",
    "# print([token.pos_ for token in doc])\n",
    "print([token.text for token in doc])"
   ]
  },
  {
   "cell_type": "code",
   "execution_count": 50,
   "metadata": {},
   "outputs": [
    {
     "name": "stdout",
     "output_type": "stream",
     "text": [
      "PERSON Brian\n"
     ]
    }
   ],
   "source": [
    "for ent in doc.ents:\n",
    "    print(ent.label_, ent.text)"
   ]
  },
  {
   "cell_type": "code",
   "execution_count": 51,
   "metadata": {},
   "outputs": [
    {
     "name": "stdout",
     "output_type": "stream",
     "text": [
      "is\n"
     ]
    }
   ],
   "source": [
    "deps = [token.dep_ for token in doc]\n",
    "root = [i for i, dep in enumerate(deps) if dep == 'ROOT']\n",
    "person = [i for i, dep in enumerate(deps) if dep == 'PERSON']\n",
    "place = [i for i, dep in enumerate(deps) if dep == 'PLACE']\n",
    "if len(root) > 0:\n",
    "    for i in root:\n",
    "        print(doc[i])\n",
    "# if str(doc[root]) == 'is' or str(doc[root]) == 'are':\n",
    "    "
   ]
  },
  {
   "cell_type": "code",
   "execution_count": 52,
   "metadata": {},
   "outputs": [
    {
     "name": "stdout",
     "output_type": "stream",
     "text": [
      "Hello, where is Brian's office?\n"
     ]
    }
   ],
   "source": [
    "for sent in doc.sents:\n",
    "    print(sent)"
   ]
  }
 ],
 "metadata": {
  "kernelspec": {
   "display_name": "Python 3",
   "language": "python",
   "name": "python3"
  },
  "language_info": {
   "codemirror_mode": {
    "name": "ipython",
    "version": 3
   },
   "file_extension": ".py",
   "mimetype": "text/x-python",
   "name": "python",
   "nbconvert_exporter": "python",
   "pygments_lexer": "ipython3",
   "version": "3.7.3"
  }
 },
 "nbformat": 4,
 "nbformat_minor": 2
}
